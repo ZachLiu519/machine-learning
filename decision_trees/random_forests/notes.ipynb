{
 "cells": [
  {
   "cell_type": "markdown",
   "id": "8271eca4-8a8f-4e71-8299-be4bf5e6f732",
   "metadata": {},
   "source": [
    "# Why"
   ]
  },
  {
   "cell_type": "markdown",
   "id": "b81829f1-82d9-40b9-a5ed-26ed0757b141",
   "metadata": {},
   "source": [
    "Fitting a single decision tree instance may often lead us to low bias and high variance, in other words, overfitting the dataset, even with tree constraints like `min_samples_leaf`, `min_samples_split` or `max_depth`"
   ]
  },
  {
   "cell_type": "markdown",
   "id": "c416885e-19a3-4507-b77b-51728922fe50",
   "metadata": {},
   "source": [
    "# Intuition"
   ]
  },
  {
   "cell_type": "markdown",
   "id": "07300fa7-d942-49c3-873f-891c54118699",
   "metadata": {},
   "source": [
    "<img src=\"random-forests.png\">"
   ]
  },
  {
   "cell_type": "markdown",
   "id": "1228ec18-ce80-48a2-b4fb-787e33692cb0",
   "metadata": {},
   "source": [
    "Fitting many meta learners, in this case, decision trees that only consider a random sample of features, and bagging them to aggregate to the output, will vastly reduces the variance."
   ]
  },
  {
   "cell_type": "markdown",
   "id": "bbfb5c6d-66f2-4cf7-9f0b-4b74379f9e5e",
   "metadata": {},
   "source": [
    "# Implementation"
   ]
  },
  {
   "cell_type": "code",
   "execution_count": null,
   "id": "3b76805f-3f5f-44c7-b85c-7290a5430b2c",
   "metadata": {},
   "outputs": [],
   "source": []
  }
 ],
 "metadata": {
  "kernelspec": {
   "display_name": "playground",
   "language": "python",
   "name": "playground"
  },
  "language_info": {
   "codemirror_mode": {
    "name": "ipython",
    "version": 3
   },
   "file_extension": ".py",
   "mimetype": "text/x-python",
   "name": "python",
   "nbconvert_exporter": "python",
   "pygments_lexer": "ipython3",
   "version": "3.12.0"
  }
 },
 "nbformat": 4,
 "nbformat_minor": 5
}
